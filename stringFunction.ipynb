{
 "cells": [
  {
   "cell_type": "code",
   "execution_count": 1,
   "id": "ce60ce66",
   "metadata": {},
   "outputs": [],
   "source": [
    "s = \"this is My First Python programming class and i am learNING python string and its function\""
   ]
  },
  {
   "cell_type": "markdown",
   "id": "423c3236",
   "metadata": {},
   "source": [
    "Try to ectract data from index one to index 300 with a jump of 3"
   ]
  },
  {
   "cell_type": "code",
   "execution_count": 5,
   "id": "c4d5740f",
   "metadata": {},
   "outputs": [
    {
     "data": {
      "text/plain": [
       "'h   r tnrrmglsnimeNGyosi dtfco'"
      ]
     },
     "execution_count": 5,
     "metadata": {},
     "output_type": "execute_result"
    }
   ],
   "source": [
    "s[1:300:3]"
   ]
  },
  {
   "cell_type": "markdown",
   "id": "ff5a0d20",
   "metadata": {},
   "source": [
    "try to rverse a function without using reverse function"
   ]
  },
  {
   "cell_type": "code",
   "execution_count": 10,
   "id": "f0f0cb73",
   "metadata": {},
   "outputs": [
    {
     "data": {
      "text/plain": [
       "'noitcnuf sti dna gnirts nohtyp GNINrael ma i dna ssalc gnimmargorp nohtyP tsriF yM si siht'"
      ]
     },
     "execution_count": 10,
     "metadata": {},
     "output_type": "execute_result"
    }
   ],
   "source": [
    "s[::-1]"
   ]
  },
  {
   "cell_type": "markdown",
   "id": "a1237813",
   "metadata": {},
   "source": [
    "Split a string a stirng after conversion of entire string in uppercase"
   ]
  },
  {
   "cell_type": "code",
   "execution_count": 12,
   "id": "3ab3bf79",
   "metadata": {},
   "outputs": [
    {
     "data": {
      "text/plain": [
       "['THIS',\n",
       " 'IS',\n",
       " 'MY',\n",
       " 'FIRST',\n",
       " 'PYTHON',\n",
       " 'PROGRAMMING',\n",
       " 'CLASS',\n",
       " 'AND',\n",
       " 'I',\n",
       " 'AM',\n",
       " 'LEARNING',\n",
       " 'PYTHON',\n",
       " 'STRING',\n",
       " 'AND',\n",
       " 'ITS',\n",
       " 'FUNCTION']"
      ]
     },
     "execution_count": 12,
     "metadata": {},
     "output_type": "execute_result"
    }
   ],
   "source": [
    "s.upper().split()"
   ]
  },
  {
   "cell_type": "markdown",
   "id": "12359b9a",
   "metadata": {},
   "source": [
    "convert string into lower case"
   ]
  },
  {
   "cell_type": "code",
   "execution_count": 14,
   "id": "f217cf0f",
   "metadata": {},
   "outputs": [
    {
     "data": {
      "text/plain": [
       "'this is my first python programming class and i am learning python string and its function'"
      ]
     },
     "execution_count": 14,
     "metadata": {},
     "output_type": "execute_result"
    }
   ],
   "source": [
    "s.lower()"
   ]
  },
  {
   "cell_type": "markdown",
   "id": "9ae1f346",
   "metadata": {},
   "source": [
    "Capitalize the whole string"
   ]
  },
  {
   "cell_type": "code",
   "execution_count": 16,
   "id": "7265de7d",
   "metadata": {},
   "outputs": [
    {
     "data": {
      "text/plain": [
       "'This is my first python programming class and i am learning python string and its function'"
      ]
     },
     "execution_count": 16,
     "metadata": {},
     "output_type": "execute_result"
    }
   ],
   "source": [
    "s.capitalize()"
   ]
  },
  {
   "cell_type": "markdown",
   "id": "99d1bfa0",
   "metadata": {},
   "source": [
    "Differnce between isalnum() and isalpha()"
   ]
  },
  {
   "cell_type": "code",
   "execution_count": 17,
   "id": "5dd72786",
   "metadata": {},
   "outputs": [
    {
     "data": {
      "text/plain": [
       "False"
      ]
     },
     "execution_count": 17,
     "metadata": {},
     "output_type": "execute_result"
    }
   ],
   "source": [
    "s.isalnum()"
   ]
  },
  {
   "cell_type": "code",
   "execution_count": 18,
   "id": "3fdabff3",
   "metadata": {},
   "outputs": [
    {
     "data": {
      "text/plain": [
       "False"
      ]
     },
     "execution_count": 18,
     "metadata": {},
     "output_type": "execute_result"
    }
   ],
   "source": [
    "s.isalpha()"
   ]
  },
  {
   "cell_type": "code",
   "execution_count": 19,
   "id": "daa51b83",
   "metadata": {},
   "outputs": [],
   "source": [
    "ss = '123abc'"
   ]
  },
  {
   "cell_type": "code",
   "execution_count": 20,
   "id": "01c8d0d0",
   "metadata": {},
   "outputs": [
    {
     "data": {
      "text/plain": [
       "False"
      ]
     },
     "execution_count": 20,
     "metadata": {},
     "output_type": "execute_result"
    }
   ],
   "source": [
    "ss.isalpha()"
   ]
  },
  {
   "cell_type": "markdown",
   "id": "2167acc4",
   "metadata": {},
   "source": [
    "example of strip(), lstrip() and rstrip()"
   ]
  },
  {
   "cell_type": "code",
   "execution_count": 29,
   "id": "bbf4390a",
   "metadata": {},
   "outputs": [],
   "source": [
    "strr = \" Tushar Patil  \""
   ]
  },
  {
   "cell_type": "code",
   "execution_count": 30,
   "id": "f79421a5",
   "metadata": {},
   "outputs": [
    {
     "data": {
      "text/plain": [
       "' Tushar Patil  '"
      ]
     },
     "execution_count": 30,
     "metadata": {},
     "output_type": "execute_result"
    }
   ],
   "source": [
    "strr"
   ]
  },
  {
   "cell_type": "code",
   "execution_count": 31,
   "id": "63fba37e",
   "metadata": {},
   "outputs": [
    {
     "data": {
      "text/plain": [
       "'Tushar Patil'"
      ]
     },
     "execution_count": 31,
     "metadata": {},
     "output_type": "execute_result"
    }
   ],
   "source": [
    "strr.strip()"
   ]
  },
  {
   "cell_type": "code",
   "execution_count": 32,
   "id": "74a53e8a",
   "metadata": {},
   "outputs": [
    {
     "data": {
      "text/plain": [
       "'Tushar Patil  '"
      ]
     },
     "execution_count": 32,
     "metadata": {},
     "output_type": "execute_result"
    }
   ],
   "source": [
    "strr.lstrip()"
   ]
  },
  {
   "cell_type": "code",
   "execution_count": 33,
   "id": "08b4e139",
   "metadata": {},
   "outputs": [
    {
     "data": {
      "text/plain": [
       "' Tushar Patil'"
      ]
     },
     "execution_count": 33,
     "metadata": {},
     "output_type": "execute_result"
    }
   ],
   "source": [
    "strr.rstrip()"
   ]
  },
  {
   "cell_type": "markdown",
   "id": "8b723977",
   "metadata": {},
   "source": [
    "Replace a string charater by another charter by taking your ownn example \"Tushar\""
   ]
  },
  {
   "cell_type": "code",
   "execution_count": 35,
   "id": "46766f80",
   "metadata": {},
   "outputs": [
    {
     "data": {
      "text/plain": [
       "'this#is#My#First#Python#programming#class#and#i#am#learNING#python#string#and#its#function'"
      ]
     },
     "execution_count": 35,
     "metadata": {},
     "output_type": "execute_result"
    }
   ],
   "source": [
    "s.replace(\" \", \"#\")"
   ]
  },
  {
   "cell_type": "markdown",
   "id": "98118778",
   "metadata": {},
   "source": [
    "string center() function"
   ]
  },
  {
   "cell_type": "code",
   "execution_count": 41,
   "id": "cf270225",
   "metadata": {},
   "outputs": [
    {
     "data": {
      "text/plain": [
       "'## Tushar Patil  ###'"
      ]
     },
     "execution_count": 41,
     "metadata": {},
     "output_type": "execute_result"
    }
   ],
   "source": [
    "strr.center(20,'#')"
   ]
  },
  {
   "cell_type": "code",
   "execution_count": null,
   "id": "1d12d676",
   "metadata": {},
   "outputs": [],
   "source": []
  }
 ],
 "metadata": {
  "kernelspec": {
   "display_name": "Python 3 (ipykernel)",
   "language": "python",
   "name": "python3"
  },
  "language_info": {
   "codemirror_mode": {
    "name": "ipython",
    "version": 3
   },
   "file_extension": ".py",
   "mimetype": "text/x-python",
   "name": "python",
   "nbconvert_exporter": "python",
   "pygments_lexer": "ipython3",
   "version": "3.9.13"
  }
 },
 "nbformat": 4,
 "nbformat_minor": 5
}
